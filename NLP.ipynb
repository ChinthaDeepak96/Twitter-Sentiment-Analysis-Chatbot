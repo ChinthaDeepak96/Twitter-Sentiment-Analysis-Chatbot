{
  "cells": [
    {
      "cell_type": "code",
      "execution_count": null,
      "id": "2b703fe6-51e2-451e-b263-f34890525df5",
      "metadata": {
        "id": "2b703fe6-51e2-451e-b263-f34890525df5"
      },
      "outputs": [],
      "source": [
        "#!pip install streamlit"
      ]
    },
    {
      "cell_type": "code",
      "execution_count": null,
      "id": "c09a24a2-b2a1-43c9-90fd-6c40949d172f",
      "metadata": {
        "id": "c09a24a2-b2a1-43c9-90fd-6c40949d172f"
      },
      "outputs": [],
      "source": [
        "import numpy as np\n",
        "import pandas as pd\n",
        "import tensorflow as tf\n",
        "from tensorflow.keras.preprocessing.text import Tokenizer\n",
        "from tensorflow.keras.preprocessing.sequence import pad_sequences\n",
        "from tensorflow.keras.models import Sequential\n",
        "from tensorflow.keras.layers import Embedding ,LSTM , Dense, Dropout\n",
        "from sklearn.model_selection import train_test_split\n",
        "from sklearn.metrics import classification_report, confusion_matrix\n",
        "import nltk\n",
        "from nltk.corpus import stopwords\n",
        "from nltk.stem import WordNetLemmatizer , PorterStemmer\n",
        "import re\n",
        "import pickle"
      ]
    },
    {
      "cell_type": "code",
      "execution_count": null,
      "id": "16ab7f32-abea-411f-92e9-23dd3dc89706",
      "metadata": {
        "id": "16ab7f32-abea-411f-92e9-23dd3dc89706"
      },
      "outputs": [],
      "source": [
        "def load_data(filepath):\n",
        "    columns = ['target' , 'id' , 'date' , 'flag' , 'user' , 'text']\n",
        "    data = pd.read_csv(filepath, encoding = \"latin-1\" , names=columns, on_bad_lines='skip')\n",
        "    return data"
      ]
    },
    {
      "cell_type": "code",
      "execution_count": null,
      "id": "8af7591a-ebda-49ed-859c-5c1011cd893e",
      "metadata": {
        "id": "8af7591a-ebda-49ed-859c-5c1011cd893e"
      },
      "outputs": [],
      "source": [
        "df = load_data(\"training.1600000.processed.noemoticon.csv\")"
      ]
    },
    {
      "cell_type": "code",
      "execution_count": null,
      "id": "de8a7835-1e03-432f-9b03-7005dec82839",
      "metadata": {
        "colab": {
          "background_save": true
        },
        "id": "de8a7835-1e03-432f-9b03-7005dec82839",
        "outputId": "69995b78-cc9a-453f-8c33-dd6dff07b828"
      },
      "outputs": [
        {
          "data": {
            "application/vnd.google.colaboratory.intrinsic+json": {
              "summary": "{\n  \"name\": \"df\",\n  \"rows\": 42373,\n  \"fields\": [\n    {\n      \"column\": \"target\",\n      \"properties\": {\n        \"dtype\": \"number\",\n        \"std\": 0,\n        \"min\": 0,\n        \"max\": 0,\n        \"num_unique_values\": 1,\n        \"samples\": [\n          0\n        ],\n        \"semantic_type\": \"\",\n        \"description\": \"\"\n      }\n    },\n    {\n      \"column\": \"id\",\n      \"properties\": {\n        \"dtype\": \"number\",\n        \"std\": 41212443,\n        \"min\": 1467810369,\n        \"max\": 1676065473,\n        \"num_unique_values\": 42373,\n        \"samples\": [\n          1564392594\n        ],\n        \"semantic_type\": \"\",\n        \"description\": \"\"\n      }\n    },\n    {\n      \"column\": \"date\",\n      \"properties\": {\n        \"dtype\": \"object\",\n        \"num_unique_values\": 34821,\n        \"samples\": [\n          \"Sun Apr 19 02:21:16 PDT 2009\"\n        ],\n        \"semantic_type\": \"\",\n        \"description\": \"\"\n      }\n    },\n    {\n      \"column\": \"flag\",\n      \"properties\": {\n        \"dtype\": \"category\",\n        \"num_unique_values\": 1,\n        \"samples\": [\n          \"NO_QUERY\"\n        ],\n        \"semantic_type\": \"\",\n        \"description\": \"\"\n      }\n    },\n    {\n      \"column\": \"user\",\n      \"properties\": {\n        \"dtype\": \"string\",\n        \"num_unique_values\": 35736,\n        \"samples\": [\n          \"BrookerHooker\"\n        ],\n        \"semantic_type\": \"\",\n        \"description\": \"\"\n      }\n    },\n    {\n      \"column\": \"text\",\n      \"properties\": {\n        \"dtype\": \"string\",\n        \"num_unique_values\": 42084,\n        \"samples\": [\n          \"@bhtrezevant Just about to sign off after a gorgeous sunny day in Melbourne, 25C ...soaking it up as winter is on the way \"\n        ],\n        \"semantic_type\": \"\",\n        \"description\": \"\"\n      }\n    },\n    {\n      \"column\": \"tweet\",\n      \"properties\": {\n        \"dtype\": \"string\",\n        \"num_unique_values\": 41888,\n        \"samples\": [\n          \"im sweating my forthcoming trip to e  if i cant find someone to crash with while im out there i may be screwed  \"\n        ],\n        \"semantic_type\": \"\",\n        \"description\": \"\"\n      }\n    },\n    {\n      \"column\": \"tweet_tokens\",\n      \"properties\": {\n        \"dtype\": \"object\",\n        \"semantic_type\": \"\",\n        \"description\": \"\"\n      }\n    },\n    {\n      \"column\": \"tweet_refine\",\n      \"properties\": {\n        \"dtype\": \"object\",\n        \"semantic_type\": \"\",\n        \"description\": \"\"\n      }\n    }\n  ]\n}",
              "type": "dataframe",
              "variable_name": "df"
            },
            "text/html": [
              "\n",
              "  <div id=\"df-a6618b2b-9bf0-4a94-b6ee-b13c37c489c8\" class=\"colab-df-container\">\n",
              "    <div>\n",
              "<style scoped>\n",
              "    .dataframe tbody tr th:only-of-type {\n",
              "        vertical-align: middle;\n",
              "    }\n",
              "\n",
              "    .dataframe tbody tr th {\n",
              "        vertical-align: top;\n",
              "    }\n",
              "\n",
              "    .dataframe thead th {\n",
              "        text-align: right;\n",
              "    }\n",
              "</style>\n",
              "<table border=\"1\" class=\"dataframe\">\n",
              "  <thead>\n",
              "    <tr style=\"text-align: right;\">\n",
              "      <th></th>\n",
              "      <th>target</th>\n",
              "      <th>id</th>\n",
              "      <th>date</th>\n",
              "      <th>flag</th>\n",
              "      <th>user</th>\n",
              "      <th>text</th>\n",
              "      <th>tweet</th>\n",
              "      <th>tweet_tokens</th>\n",
              "      <th>tweet_refine</th>\n",
              "    </tr>\n",
              "  </thead>\n",
              "  <tbody>\n",
              "    <tr>\n",
              "      <th>0</th>\n",
              "      <td>0</td>\n",
              "      <td>1467810369</td>\n",
              "      <td>Mon Apr 06 22:19:45 PDT 2009</td>\n",
              "      <td>NO_QUERY</td>\n",
              "      <td>_TheSpecialOne_</td>\n",
              "      <td>@switchfoot http://twitpic.com/2y1zl - Awww, t...</td>\n",
              "      <td>switchfoot httptwitpiccomyzl  awww thats a bum...</td>\n",
              "      <td>[switchfoot, httptwitpiccomyzl, awww, thats, a...</td>\n",
              "      <td>[switchfoot, httptwitpiccomyzl, awww, that, bu...</td>\n",
              "    </tr>\n",
              "    <tr>\n",
              "      <th>1</th>\n",
              "      <td>0</td>\n",
              "      <td>1467810672</td>\n",
              "      <td>Mon Apr 06 22:19:49 PDT 2009</td>\n",
              "      <td>NO_QUERY</td>\n",
              "      <td>scotthamilton</td>\n",
              "      <td>is upset that he can't update his Facebook by ...</td>\n",
              "      <td>is upset that he cant update his facebook by t...</td>\n",
              "      <td>[is, upset, that, he, cant, update, his, faceb...</td>\n",
              "      <td>[upset, cant, updat, facebook, text, might, cr...</td>\n",
              "    </tr>\n",
              "    <tr>\n",
              "      <th>2</th>\n",
              "      <td>0</td>\n",
              "      <td>1467810917</td>\n",
              "      <td>Mon Apr 06 22:19:53 PDT 2009</td>\n",
              "      <td>NO_QUERY</td>\n",
              "      <td>mattycus</td>\n",
              "      <td>@Kenichan I dived many times for the ball. Man...</td>\n",
              "      <td>kenichan i dived many times for the ball manag...</td>\n",
              "      <td>[kenichan, i, dived, many, times, for, the, ba...</td>\n",
              "      <td>[kenichan, dive, mani, time, ball, manag, save...</td>\n",
              "    </tr>\n",
              "    <tr>\n",
              "      <th>3</th>\n",
              "      <td>0</td>\n",
              "      <td>1467811184</td>\n",
              "      <td>Mon Apr 06 22:19:57 PDT 2009</td>\n",
              "      <td>NO_QUERY</td>\n",
              "      <td>ElleCTF</td>\n",
              "      <td>my whole body feels itchy and like its on fire</td>\n",
              "      <td>my whole body feels itchy and like its on fire</td>\n",
              "      <td>[my, whole, body, feels, itchy, and, like, its...</td>\n",
              "      <td>[whole, bodi, feel, itchi, like, fire]</td>\n",
              "    </tr>\n",
              "    <tr>\n",
              "      <th>4</th>\n",
              "      <td>0</td>\n",
              "      <td>1467811193</td>\n",
              "      <td>Mon Apr 06 22:19:57 PDT 2009</td>\n",
              "      <td>NO_QUERY</td>\n",
              "      <td>Karoli</td>\n",
              "      <td>@nationwideclass no, it's not behaving at all....</td>\n",
              "      <td>nationwideclass no its not behaving at all im ...</td>\n",
              "      <td>[nationwideclass, no, its, not, behaving, at, ...</td>\n",
              "      <td>[nationwideclass, behav, im, mad, cant, see]</td>\n",
              "    </tr>\n",
              "    <tr>\n",
              "      <th>...</th>\n",
              "      <td>...</td>\n",
              "      <td>...</td>\n",
              "      <td>...</td>\n",
              "      <td>...</td>\n",
              "      <td>...</td>\n",
              "      <td>...</td>\n",
              "      <td>...</td>\n",
              "      <td>...</td>\n",
              "      <td>...</td>\n",
              "    </tr>\n",
              "    <tr>\n",
              "      <th>42368</th>\n",
              "      <td>0</td>\n",
              "      <td>1676064993</td>\n",
              "      <td>Fri May 01 21:00:32 PDT 2009</td>\n",
              "      <td>NO_QUERY</td>\n",
              "      <td>lovehaightpeace</td>\n",
              "      <td>I wish Eric Draven was real.</td>\n",
              "      <td>i wish eric draven was real</td>\n",
              "      <td>[i, wish, eric, draven, was, real]</td>\n",
              "      <td>[wish, eric, draven, real]</td>\n",
              "    </tr>\n",
              "    <tr>\n",
              "      <th>42369</th>\n",
              "      <td>0</td>\n",
              "      <td>1676065032</td>\n",
              "      <td>Fri May 01 21:00:32 PDT 2009</td>\n",
              "      <td>NO_QUERY</td>\n",
              "      <td>bhillss</td>\n",
              "      <td>exam time</td>\n",
              "      <td>exam time</td>\n",
              "      <td>[exam, time]</td>\n",
              "      <td>[exam, time]</td>\n",
              "    </tr>\n",
              "    <tr>\n",
              "      <th>42370</th>\n",
              "      <td>0</td>\n",
              "      <td>1676065247</td>\n",
              "      <td>Fri May 01 21:00:34 PDT 2009</td>\n",
              "      <td>NO_QUERY</td>\n",
              "      <td>OxCheliJoxO</td>\n",
              "      <td>is gettin sick! Damn! Go figure I have big wee...</td>\n",
              "      <td>is gettin sick damn go figure i have big weeke...</td>\n",
              "      <td>[is, gettin, sick, damn, go, figure, i, have, ...</td>\n",
              "      <td>[gettin, sick, damn, go, figur, big, weekend, ...</td>\n",
              "    </tr>\n",
              "    <tr>\n",
              "      <th>42371</th>\n",
              "      <td>0</td>\n",
              "      <td>1676065305</td>\n",
              "      <td>Fri May 01 21:00:35 PDT 2009</td>\n",
              "      <td>NO_QUERY</td>\n",
              "      <td>exeromai</td>\n",
              "      <td>Had to leave after shooting 1st 3 songs of Dea...</td>\n",
              "      <td>had to leave after shooting st  songs of death...</td>\n",
              "      <td>[had, to, leave, after, shooting, st, songs, o...</td>\n",
              "      <td>[leav, shoot, st, song, death, cab, ben, fine,...</td>\n",
              "    </tr>\n",
              "    <tr>\n",
              "      <th>42372</th>\n",
              "      <td>0</td>\n",
              "      <td>1676065473</td>\n",
              "      <td>Fri May 01 21:00:36 PDT 2009</td>\n",
              "      <td>NO_QUERY</td>\n",
              "      <td>trslove</td>\n",
              "      <td>NaN</td>\n",
              "      <td>nan</td>\n",
              "      <td>[nan]</td>\n",
              "      <td>[nan]</td>\n",
              "    </tr>\n",
              "  </tbody>\n",
              "</table>\n",
              "<p>42373 rows × 9 columns</p>\n",
              "</div>\n",
              "    <div class=\"colab-df-buttons\">\n",
              "\n",
              "  <div class=\"colab-df-container\">\n",
              "    <button class=\"colab-df-convert\" onclick=\"convertToInteractive('df-a6618b2b-9bf0-4a94-b6ee-b13c37c489c8')\"\n",
              "            title=\"Convert this dataframe to an interactive table.\"\n",
              "            style=\"display:none;\">\n",
              "\n",
              "  <svg xmlns=\"http://www.w3.org/2000/svg\" height=\"24px\" viewBox=\"0 -960 960 960\">\n",
              "    <path d=\"M120-120v-720h720v720H120Zm60-500h600v-160H180v160Zm220 220h160v-160H400v160Zm0 220h160v-160H400v160ZM180-400h160v-160H180v160Zm440 0h160v-160H620v160ZM180-180h160v-160H180v160Zm440 0h160v-160H620v160Z\"/>\n",
              "  </svg>\n",
              "    </button>\n",
              "\n",
              "  <style>\n",
              "    .colab-df-container {\n",
              "      display:flex;\n",
              "      gap: 12px;\n",
              "    }\n",
              "\n",
              "    .colab-df-convert {\n",
              "      background-color: #E8F0FE;\n",
              "      border: none;\n",
              "      border-radius: 50%;\n",
              "      cursor: pointer;\n",
              "      display: none;\n",
              "      fill: #1967D2;\n",
              "      height: 32px;\n",
              "      padding: 0 0 0 0;\n",
              "      width: 32px;\n",
              "    }\n",
              "\n",
              "    .colab-df-convert:hover {\n",
              "      background-color: #E2EBFA;\n",
              "      box-shadow: 0px 1px 2px rgba(60, 64, 67, 0.3), 0px 1px 3px 1px rgba(60, 64, 67, 0.15);\n",
              "      fill: #174EA6;\n",
              "    }\n",
              "\n",
              "    .colab-df-buttons div {\n",
              "      margin-bottom: 4px;\n",
              "    }\n",
              "\n",
              "    [theme=dark] .colab-df-convert {\n",
              "      background-color: #3B4455;\n",
              "      fill: #D2E3FC;\n",
              "    }\n",
              "\n",
              "    [theme=dark] .colab-df-convert:hover {\n",
              "      background-color: #434B5C;\n",
              "      box-shadow: 0px 1px 3px 1px rgba(0, 0, 0, 0.15);\n",
              "      filter: drop-shadow(0px 1px 2px rgba(0, 0, 0, 0.3));\n",
              "      fill: #FFFFFF;\n",
              "    }\n",
              "  </style>\n",
              "\n",
              "    <script>\n",
              "      const buttonEl =\n",
              "        document.querySelector('#df-a6618b2b-9bf0-4a94-b6ee-b13c37c489c8 button.colab-df-convert');\n",
              "      buttonEl.style.display =\n",
              "        google.colab.kernel.accessAllowed ? 'block' : 'none';\n",
              "\n",
              "      async function convertToInteractive(key) {\n",
              "        const element = document.querySelector('#df-a6618b2b-9bf0-4a94-b6ee-b13c37c489c8');\n",
              "        const dataTable =\n",
              "          await google.colab.kernel.invokeFunction('convertToInteractive',\n",
              "                                                    [key], {});\n",
              "        if (!dataTable) return;\n",
              "\n",
              "        const docLinkHtml = 'Like what you see? Visit the ' +\n",
              "          '<a target=\"_blank\" href=https://colab.research.google.com/notebooks/data_table.ipynb>data table notebook</a>'\n",
              "          + ' to learn more about interactive tables.';\n",
              "        element.innerHTML = '';\n",
              "        dataTable['output_type'] = 'display_data';\n",
              "        await google.colab.output.renderOutput(dataTable, element);\n",
              "        const docLink = document.createElement('div');\n",
              "        docLink.innerHTML = docLinkHtml;\n",
              "        element.appendChild(docLink);\n",
              "      }\n",
              "    </script>\n",
              "  </div>\n",
              "\n",
              "\n",
              "<div id=\"df-9426afae-24a0-455d-99c4-5d46c7405e31\">\n",
              "  <button class=\"colab-df-quickchart\" onclick=\"quickchart('df-9426afae-24a0-455d-99c4-5d46c7405e31')\"\n",
              "            title=\"Suggest charts\"\n",
              "            style=\"display:none;\">\n",
              "\n",
              "<svg xmlns=\"http://www.w3.org/2000/svg\" height=\"24px\"viewBox=\"0 0 24 24\"\n",
              "     width=\"24px\">\n",
              "    <g>\n",
              "        <path d=\"M19 3H5c-1.1 0-2 .9-2 2v14c0 1.1.9 2 2 2h14c1.1 0 2-.9 2-2V5c0-1.1-.9-2-2-2zM9 17H7v-7h2v7zm4 0h-2V7h2v10zm4 0h-2v-4h2v4z\"/>\n",
              "    </g>\n",
              "</svg>\n",
              "  </button>\n",
              "\n",
              "<style>\n",
              "  .colab-df-quickchart {\n",
              "      --bg-color: #E8F0FE;\n",
              "      --fill-color: #1967D2;\n",
              "      --hover-bg-color: #E2EBFA;\n",
              "      --hover-fill-color: #174EA6;\n",
              "      --disabled-fill-color: #AAA;\n",
              "      --disabled-bg-color: #DDD;\n",
              "  }\n",
              "\n",
              "  [theme=dark] .colab-df-quickchart {\n",
              "      --bg-color: #3B4455;\n",
              "      --fill-color: #D2E3FC;\n",
              "      --hover-bg-color: #434B5C;\n",
              "      --hover-fill-color: #FFFFFF;\n",
              "      --disabled-bg-color: #3B4455;\n",
              "      --disabled-fill-color: #666;\n",
              "  }\n",
              "\n",
              "  .colab-df-quickchart {\n",
              "    background-color: var(--bg-color);\n",
              "    border: none;\n",
              "    border-radius: 50%;\n",
              "    cursor: pointer;\n",
              "    display: none;\n",
              "    fill: var(--fill-color);\n",
              "    height: 32px;\n",
              "    padding: 0;\n",
              "    width: 32px;\n",
              "  }\n",
              "\n",
              "  .colab-df-quickchart:hover {\n",
              "    background-color: var(--hover-bg-color);\n",
              "    box-shadow: 0 1px 2px rgba(60, 64, 67, 0.3), 0 1px 3px 1px rgba(60, 64, 67, 0.15);\n",
              "    fill: var(--button-hover-fill-color);\n",
              "  }\n",
              "\n",
              "  .colab-df-quickchart-complete:disabled,\n",
              "  .colab-df-quickchart-complete:disabled:hover {\n",
              "    background-color: var(--disabled-bg-color);\n",
              "    fill: var(--disabled-fill-color);\n",
              "    box-shadow: none;\n",
              "  }\n",
              "\n",
              "  .colab-df-spinner {\n",
              "    border: 2px solid var(--fill-color);\n",
              "    border-color: transparent;\n",
              "    border-bottom-color: var(--fill-color);\n",
              "    animation:\n",
              "      spin 1s steps(1) infinite;\n",
              "  }\n",
              "\n",
              "  @keyframes spin {\n",
              "    0% {\n",
              "      border-color: transparent;\n",
              "      border-bottom-color: var(--fill-color);\n",
              "      border-left-color: var(--fill-color);\n",
              "    }\n",
              "    20% {\n",
              "      border-color: transparent;\n",
              "      border-left-color: var(--fill-color);\n",
              "      border-top-color: var(--fill-color);\n",
              "    }\n",
              "    30% {\n",
              "      border-color: transparent;\n",
              "      border-left-color: var(--fill-color);\n",
              "      border-top-color: var(--fill-color);\n",
              "      border-right-color: var(--fill-color);\n",
              "    }\n",
              "    40% {\n",
              "      border-color: transparent;\n",
              "      border-right-color: var(--fill-color);\n",
              "      border-top-color: var(--fill-color);\n",
              "    }\n",
              "    60% {\n",
              "      border-color: transparent;\n",
              "      border-right-color: var(--fill-color);\n",
              "    }\n",
              "    80% {\n",
              "      border-color: transparent;\n",
              "      border-right-color: var(--fill-color);\n",
              "      border-bottom-color: var(--fill-color);\n",
              "    }\n",
              "    90% {\n",
              "      border-color: transparent;\n",
              "      border-bottom-color: var(--fill-color);\n",
              "    }\n",
              "  }\n",
              "</style>\n",
              "\n",
              "  <script>\n",
              "    async function quickchart(key) {\n",
              "      const quickchartButtonEl =\n",
              "        document.querySelector('#' + key + ' button');\n",
              "      quickchartButtonEl.disabled = true;  // To prevent multiple clicks.\n",
              "      quickchartButtonEl.classList.add('colab-df-spinner');\n",
              "      try {\n",
              "        const charts = await google.colab.kernel.invokeFunction(\n",
              "            'suggestCharts', [key], {});\n",
              "      } catch (error) {\n",
              "        console.error('Error during call to suggestCharts:', error);\n",
              "      }\n",
              "      quickchartButtonEl.classList.remove('colab-df-spinner');\n",
              "      quickchartButtonEl.classList.add('colab-df-quickchart-complete');\n",
              "    }\n",
              "    (() => {\n",
              "      let quickchartButtonEl =\n",
              "        document.querySelector('#df-9426afae-24a0-455d-99c4-5d46c7405e31 button');\n",
              "      quickchartButtonEl.style.display =\n",
              "        google.colab.kernel.accessAllowed ? 'block' : 'none';\n",
              "    })();\n",
              "  </script>\n",
              "</div>\n",
              "\n",
              "  <div id=\"id_e062a33a-be1e-494c-916d-4b31a8770211\">\n",
              "    <style>\n",
              "      .colab-df-generate {\n",
              "        background-color: #E8F0FE;\n",
              "        border: none;\n",
              "        border-radius: 50%;\n",
              "        cursor: pointer;\n",
              "        display: none;\n",
              "        fill: #1967D2;\n",
              "        height: 32px;\n",
              "        padding: 0 0 0 0;\n",
              "        width: 32px;\n",
              "      }\n",
              "\n",
              "      .colab-df-generate:hover {\n",
              "        background-color: #E2EBFA;\n",
              "        box-shadow: 0px 1px 2px rgba(60, 64, 67, 0.3), 0px 1px 3px 1px rgba(60, 64, 67, 0.15);\n",
              "        fill: #174EA6;\n",
              "      }\n",
              "\n",
              "      [theme=dark] .colab-df-generate {\n",
              "        background-color: #3B4455;\n",
              "        fill: #D2E3FC;\n",
              "      }\n",
              "\n",
              "      [theme=dark] .colab-df-generate:hover {\n",
              "        background-color: #434B5C;\n",
              "        box-shadow: 0px 1px 3px 1px rgba(0, 0, 0, 0.15);\n",
              "        filter: drop-shadow(0px 1px 2px rgba(0, 0, 0, 0.3));\n",
              "        fill: #FFFFFF;\n",
              "      }\n",
              "    </style>\n",
              "    <button class=\"colab-df-generate\" onclick=\"generateWithVariable('df')\"\n",
              "            title=\"Generate code using this dataframe.\"\n",
              "            style=\"display:none;\">\n",
              "\n",
              "  <svg xmlns=\"http://www.w3.org/2000/svg\" height=\"24px\"viewBox=\"0 0 24 24\"\n",
              "       width=\"24px\">\n",
              "    <path d=\"M7,19H8.4L18.45,9,17,7.55,7,17.6ZM5,21V16.75L18.45,3.32a2,2,0,0,1,2.83,0l1.4,1.43a1.91,1.91,0,0,1,.58,1.4,1.91,1.91,0,0,1-.58,1.4L9.25,21ZM18.45,9,17,7.55Zm-12,3A5.31,5.31,0,0,0,4.9,8.1,5.31,5.31,0,0,0,1,6.5,5.31,5.31,0,0,0,4.9,4.9,5.31,5.31,0,0,0,6.5,1,5.31,5.31,0,0,0,8.1,4.9,5.31,5.31,0,0,0,12,6.5,5.46,5.46,0,0,0,6.5,12Z\"/>\n",
              "  </svg>\n",
              "    </button>\n",
              "    <script>\n",
              "      (() => {\n",
              "      const buttonEl =\n",
              "        document.querySelector('#id_e062a33a-be1e-494c-916d-4b31a8770211 button.colab-df-generate');\n",
              "      buttonEl.style.display =\n",
              "        google.colab.kernel.accessAllowed ? 'block' : 'none';\n",
              "\n",
              "      buttonEl.onclick = () => {\n",
              "        google.colab.notebook.generateWithVariable('df');\n",
              "      }\n",
              "      })();\n",
              "    </script>\n",
              "  </div>\n",
              "\n",
              "    </div>\n",
              "  </div>\n"
            ],
            "text/plain": [
              "       target          id                          date      flag  \\\n",
              "0           0  1467810369  Mon Apr 06 22:19:45 PDT 2009  NO_QUERY   \n",
              "1           0  1467810672  Mon Apr 06 22:19:49 PDT 2009  NO_QUERY   \n",
              "2           0  1467810917  Mon Apr 06 22:19:53 PDT 2009  NO_QUERY   \n",
              "3           0  1467811184  Mon Apr 06 22:19:57 PDT 2009  NO_QUERY   \n",
              "4           0  1467811193  Mon Apr 06 22:19:57 PDT 2009  NO_QUERY   \n",
              "...       ...         ...                           ...       ...   \n",
              "42368       0  1676064993  Fri May 01 21:00:32 PDT 2009  NO_QUERY   \n",
              "42369       0  1676065032  Fri May 01 21:00:32 PDT 2009  NO_QUERY   \n",
              "42370       0  1676065247  Fri May 01 21:00:34 PDT 2009  NO_QUERY   \n",
              "42371       0  1676065305  Fri May 01 21:00:35 PDT 2009  NO_QUERY   \n",
              "42372       0  1676065473  Fri May 01 21:00:36 PDT 2009  NO_QUERY   \n",
              "\n",
              "                  user                                               text  \\\n",
              "0      _TheSpecialOne_  @switchfoot http://twitpic.com/2y1zl - Awww, t...   \n",
              "1        scotthamilton  is upset that he can't update his Facebook by ...   \n",
              "2             mattycus  @Kenichan I dived many times for the ball. Man...   \n",
              "3              ElleCTF    my whole body feels itchy and like its on fire    \n",
              "4               Karoli  @nationwideclass no, it's not behaving at all....   \n",
              "...                ...                                                ...   \n",
              "42368  lovehaightpeace                      I wish Eric Draven was real.    \n",
              "42369          bhillss                                         exam time    \n",
              "42370      OxCheliJoxO  is gettin sick! Damn! Go figure I have big wee...   \n",
              "42371         exeromai  Had to leave after shooting 1st 3 songs of Dea...   \n",
              "42372          trslove                                                NaN   \n",
              "\n",
              "                                                   tweet  \\\n",
              "0      switchfoot httptwitpiccomyzl  awww thats a bum...   \n",
              "1      is upset that he cant update his facebook by t...   \n",
              "2      kenichan i dived many times for the ball manag...   \n",
              "3        my whole body feels itchy and like its on fire    \n",
              "4      nationwideclass no its not behaving at all im ...   \n",
              "...                                                  ...   \n",
              "42368                       i wish eric draven was real    \n",
              "42369                                         exam time    \n",
              "42370  is gettin sick damn go figure i have big weeke...   \n",
              "42371  had to leave after shooting st  songs of death...   \n",
              "42372                                                nan   \n",
              "\n",
              "                                            tweet_tokens  \\\n",
              "0      [switchfoot, httptwitpiccomyzl, awww, thats, a...   \n",
              "1      [is, upset, that, he, cant, update, his, faceb...   \n",
              "2      [kenichan, i, dived, many, times, for, the, ba...   \n",
              "3      [my, whole, body, feels, itchy, and, like, its...   \n",
              "4      [nationwideclass, no, its, not, behaving, at, ...   \n",
              "...                                                  ...   \n",
              "42368                 [i, wish, eric, draven, was, real]   \n",
              "42369                                       [exam, time]   \n",
              "42370  [is, gettin, sick, damn, go, figure, i, have, ...   \n",
              "42371  [had, to, leave, after, shooting, st, songs, o...   \n",
              "42372                                              [nan]   \n",
              "\n",
              "                                            tweet_refine  \n",
              "0      [switchfoot, httptwitpiccomyzl, awww, that, bu...  \n",
              "1      [upset, cant, updat, facebook, text, might, cr...  \n",
              "2      [kenichan, dive, mani, time, ball, manag, save...  \n",
              "3                 [whole, bodi, feel, itchi, like, fire]  \n",
              "4           [nationwideclass, behav, im, mad, cant, see]  \n",
              "...                                                  ...  \n",
              "42368                         [wish, eric, draven, real]  \n",
              "42369                                       [exam, time]  \n",
              "42370  [gettin, sick, damn, go, figur, big, weekend, ...  \n",
              "42371  [leav, shoot, st, song, death, cab, ben, fine,...  \n",
              "42372                                              [nan]  \n",
              "\n",
              "[42373 rows x 9 columns]"
            ]
          },
          "execution_count": 63,
          "metadata": {},
          "output_type": "execute_result"
        }
      ],
      "source": [
        "df"
      ]
    },
    {
      "cell_type": "code",
      "execution_count": null,
      "id": "4aa0fb52-2c84-4c08-863d-79a6dca49723",
      "metadata": {
        "colab": {
          "background_save": true
        },
        "id": "4aa0fb52-2c84-4c08-863d-79a6dca49723",
        "outputId": "64078196-bdd8-48cc-d4f5-54e2027b4fe0"
      },
      "outputs": [
        {
          "name": "stdout",
          "output_type": "stream",
          "text": [
            "<class 'pandas.core.frame.DataFrame'>\n",
            "RangeIndex: 42373 entries, 0 to 42372\n",
            "Data columns (total 9 columns):\n",
            " #   Column        Non-Null Count  Dtype \n",
            "---  ------        --------------  ----- \n",
            " 0   target        42373 non-null  int64 \n",
            " 1   id            42373 non-null  int64 \n",
            " 2   date          42373 non-null  object\n",
            " 3   flag          42373 non-null  object\n",
            " 4   user          42373 non-null  object\n",
            " 5   text          42372 non-null  object\n",
            " 6   tweet         42373 non-null  object\n",
            " 7   tweet_tokens  42373 non-null  object\n",
            " 8   tweet_refine  42373 non-null  object\n",
            "dtypes: int64(2), object(7)\n",
            "memory usage: 2.9+ MB\n"
          ]
        }
      ],
      "source": [
        "df.info()"
      ]
    },
    {
      "cell_type": "code",
      "execution_count": null,
      "id": "065fd20c-dc83-4d73-9c0c-11491f45fb13",
      "metadata": {
        "colab": {
          "background_save": true
        },
        "id": "065fd20c-dc83-4d73-9c0c-11491f45fb13",
        "outputId": "04754c2f-51ae-4d16-f88d-95d59a00aa33"
      },
      "outputs": [
        {
          "data": {
            "application/vnd.google.colaboratory.intrinsic+json": {
              "type": "string"
            },
            "text/plain": [
              "'@twittera que me muera ? '"
            ]
          },
          "execution_count": 65,
          "metadata": {},
          "output_type": "execute_result"
        }
      ],
      "source": [
        "df['text'][9]"
      ]
    },
    {
      "cell_type": "code",
      "execution_count": null,
      "id": "132c4e2f-f4ca-49c0-83a5-51a5a4c65225",
      "metadata": {
        "colab": {
          "background_save": true
        },
        "id": "132c4e2f-f4ca-49c0-83a5-51a5a4c65225"
      },
      "outputs": [],
      "source": [
        "df['tweet']=df['text'].str.lower()"
      ]
    },
    {
      "cell_type": "code",
      "execution_count": null,
      "id": "0788b433-c63c-4dbf-93d9-11838b42f110",
      "metadata": {
        "colab": {
          "background_save": true
        },
        "id": "0788b433-c63c-4dbf-93d9-11838b42f110",
        "outputId": "c81198ca-fb6b-404f-ad3a-9932b19f20e8"
      },
      "outputs": [
        {
          "data": {
            "application/vnd.google.colaboratory.intrinsic+json": {
              "type": "string"
            },
            "text/plain": [
              "\"is upset that he can't update his facebook by texting it... and might cry as a result  school today also. blah!\""
            ]
          },
          "execution_count": 67,
          "metadata": {},
          "output_type": "execute_result"
        }
      ],
      "source": [
        "df['tweet'][1]"
      ]
    },
    {
      "cell_type": "code",
      "execution_count": null,
      "id": "a80d206b-55c4-403f-8b12-8ce363e79369",
      "metadata": {
        "colab": {
          "background_save": true
        },
        "id": "a80d206b-55c4-403f-8b12-8ce363e79369"
      },
      "outputs": [],
      "source": [
        "df['tweet'] = df['tweet'].astype(str)\n",
        "df['tweet']=df['tweet'].apply(lambda x:re.sub(r'[^a-zA-Z\\s]',\"\",x))"
      ]
    },
    {
      "cell_type": "code",
      "execution_count": null,
      "id": "b9e29b22-5450-4775-bad3-006e95aae049",
      "metadata": {
        "colab": {
          "background_save": true
        },
        "id": "b9e29b22-5450-4775-bad3-006e95aae049",
        "outputId": "dbb08653-80bf-45fc-a817-06b7d8b1f8e9"
      },
      "outputs": [
        {
          "data": {
            "application/vnd.google.colaboratory.intrinsic+json": {
              "type": "string"
            },
            "text/plain": [
              "'twittera que me muera  '"
            ]
          },
          "execution_count": 69,
          "metadata": {},
          "output_type": "execute_result"
        }
      ],
      "source": [
        "df['tweet'][9]"
      ]
    },
    {
      "cell_type": "code",
      "execution_count": null,
      "id": "63588b87-d4d9-490b-b1ca-6f22afd65209",
      "metadata": {
        "colab": {
          "background_save": true
        },
        "id": "63588b87-d4d9-490b-b1ca-6f22afd65209",
        "outputId": "4d07a401-292b-401c-f00d-f6daf87cd3f8"
      },
      "outputs": [
        {
          "data": {
            "application/vnd.google.colaboratory.intrinsic+json": {
              "type": "string"
            },
            "text/plain": [
              "'is upset that he cant update his facebook by texting it and might cry as a result  school today also blah'"
            ]
          },
          "execution_count": 70,
          "metadata": {},
          "output_type": "execute_result"
        }
      ],
      "source": [
        "df['tweet'][1]"
      ]
    },
    {
      "cell_type": "code",
      "execution_count": null,
      "id": "6c4d77eb-b158-40e4-b4a7-8cb77a8a0389",
      "metadata": {
        "colab": {
          "background_save": true
        },
        "id": "6c4d77eb-b158-40e4-b4a7-8cb77a8a0389"
      },
      "outputs": [],
      "source": [
        "df[\"tweet_tokens\"] = df['tweet'].apply(lambda x:x.split())"
      ]
    },
    {
      "cell_type": "code",
      "execution_count": null,
      "id": "b03f1af5-56b7-46f9-9a21-1727d474530c",
      "metadata": {
        "colab": {
          "background_save": true
        },
        "id": "b03f1af5-56b7-46f9-9a21-1727d474530c",
        "outputId": "b584580c-4c58-424c-e7f6-0c09ddd3797a"
      },
      "outputs": [
        {
          "data": {
            "text/plain": [
              "['is',\n",
              " 'upset',\n",
              " 'that',\n",
              " 'he',\n",
              " 'cant',\n",
              " 'update',\n",
              " 'his',\n",
              " 'facebook',\n",
              " 'by',\n",
              " 'texting',\n",
              " 'it',\n",
              " 'and',\n",
              " 'might',\n",
              " 'cry',\n",
              " 'as',\n",
              " 'a',\n",
              " 'result',\n",
              " 'school',\n",
              " 'today',\n",
              " 'also',\n",
              " 'blah']"
            ]
          },
          "execution_count": 72,
          "metadata": {},
          "output_type": "execute_result"
        }
      ],
      "source": [
        "df[\"tweet_tokens\"][1]"
      ]
    },
    {
      "cell_type": "code",
      "execution_count": null,
      "id": "444e09be-6862-4619-a61f-092a04a23113",
      "metadata": {
        "colab": {
          "background_save": true
        },
        "id": "444e09be-6862-4619-a61f-092a04a23113"
      },
      "outputs": [],
      "source": [
        "lemma = WordNetLemmatizer()"
      ]
    },
    {
      "cell_type": "code",
      "execution_count": null,
      "id": "468fffe6-29b0-4e5c-b95e-a46e6923904c",
      "metadata": {
        "colab": {
          "background_save": true
        },
        "id": "468fffe6-29b0-4e5c-b95e-a46e6923904c",
        "outputId": "2dde8070-a719-44fb-e9f9-652a71c9735e"
      },
      "outputs": [
        {
          "name": "stderr",
          "output_type": "stream",
          "text": [
            "[nltk_data] Downloading package stopwords to /root/nltk_data...\n",
            "[nltk_data]   Package stopwords is already up-to-date!\n"
          ]
        }
      ],
      "source": [
        "nltk.download('stopwords')\n",
        "stop_words = set(stopwords.words('english'))"
      ]
    },
    {
      "cell_type": "code",
      "execution_count": null,
      "id": "8fe6afb1-7dad-49b6-8f57-9e5a7f734e2a",
      "metadata": {
        "colab": {
          "background_save": true
        },
        "id": "8fe6afb1-7dad-49b6-8f57-9e5a7f734e2a",
        "outputId": "58e39ef0-31aa-47cb-ee56-87fe7cc3f153"
      },
      "outputs": [
        {
          "data": {
            "text/plain": [
              "179"
            ]
          },
          "execution_count": 75,
          "metadata": {},
          "output_type": "execute_result"
        }
      ],
      "source": [
        "\n",
        "len(stop_words)"
      ]
    },
    {
      "cell_type": "code",
      "execution_count": null,
      "id": "088ff90c-e03e-4d87-b097-62196c18d3c6",
      "metadata": {
        "colab": {
          "background_save": true
        },
        "id": "088ff90c-e03e-4d87-b097-62196c18d3c6"
      },
      "outputs": [],
      "source": [
        "df['tweet_refine']=df['tweet_tokens'].apply(lambda x: [word for word in x if word not in stop_words])"
      ]
    },
    {
      "cell_type": "code",
      "execution_count": null,
      "id": "975526c1-cf63-480d-b72b-eac08de15295",
      "metadata": {
        "colab": {
          "background_save": true
        },
        "id": "975526c1-cf63-480d-b72b-eac08de15295",
        "outputId": "8b3cd57f-b310-4827-a4fd-8ab1d0741293"
      },
      "outputs": [
        {
          "data": {
            "text/html": [
              "<div>\n",
              "<style scoped>\n",
              "    .dataframe tbody tr th:only-of-type {\n",
              "        vertical-align: middle;\n",
              "    }\n",
              "\n",
              "    .dataframe tbody tr th {\n",
              "        vertical-align: top;\n",
              "    }\n",
              "\n",
              "    .dataframe thead th {\n",
              "        text-align: right;\n",
              "    }\n",
              "</style>\n",
              "<table border=\"1\" class=\"dataframe\">\n",
              "  <thead>\n",
              "    <tr style=\"text-align: right;\">\n",
              "      <th></th>\n",
              "      <th>tweet_refine</th>\n",
              "    </tr>\n",
              "  </thead>\n",
              "  <tbody>\n",
              "    <tr>\n",
              "      <th>0</th>\n",
              "      <td>[switchfoot, httptwitpiccomyzl, awww, thats, b...</td>\n",
              "    </tr>\n",
              "    <tr>\n",
              "      <th>1</th>\n",
              "      <td>[upset, cant, update, facebook, texting, might...</td>\n",
              "    </tr>\n",
              "    <tr>\n",
              "      <th>2</th>\n",
              "      <td>[kenichan, dived, many, times, ball, managed, ...</td>\n",
              "    </tr>\n",
              "    <tr>\n",
              "      <th>3</th>\n",
              "      <td>[whole, body, feels, itchy, like, fire]</td>\n",
              "    </tr>\n",
              "    <tr>\n",
              "      <th>4</th>\n",
              "      <td>[nationwideclass, behaving, im, mad, cant, see]</td>\n",
              "    </tr>\n",
              "    <tr>\n",
              "      <th>...</th>\n",
              "      <td>...</td>\n",
              "    </tr>\n",
              "    <tr>\n",
              "      <th>42368</th>\n",
              "      <td>[wish, eric, draven, real]</td>\n",
              "    </tr>\n",
              "    <tr>\n",
              "      <th>42369</th>\n",
              "      <td>[exam, time]</td>\n",
              "    </tr>\n",
              "    <tr>\n",
              "      <th>42370</th>\n",
              "      <td>[gettin, sick, damn, go, figure, big, weekend,...</td>\n",
              "    </tr>\n",
              "    <tr>\n",
              "      <th>42371</th>\n",
              "      <td>[leave, shooting, st, songs, death, cab, ben, ...</td>\n",
              "    </tr>\n",
              "    <tr>\n",
              "      <th>42372</th>\n",
              "      <td>[nan]</td>\n",
              "    </tr>\n",
              "  </tbody>\n",
              "</table>\n",
              "<p>42373 rows × 1 columns</p>\n",
              "</div><br><label><b>dtype:</b> object</label>"
            ],
            "text/plain": [
              "0        [switchfoot, httptwitpiccomyzl, awww, thats, b...\n",
              "1        [upset, cant, update, facebook, texting, might...\n",
              "2        [kenichan, dived, many, times, ball, managed, ...\n",
              "3                  [whole, body, feels, itchy, like, fire]\n",
              "4          [nationwideclass, behaving, im, mad, cant, see]\n",
              "                               ...                        \n",
              "42368                           [wish, eric, draven, real]\n",
              "42369                                         [exam, time]\n",
              "42370    [gettin, sick, damn, go, figure, big, weekend,...\n",
              "42371    [leave, shooting, st, songs, death, cab, ben, ...\n",
              "42372                                                [nan]\n",
              "Name: tweet_refine, Length: 42373, dtype: object"
            ]
          },
          "execution_count": 77,
          "metadata": {},
          "output_type": "execute_result"
        }
      ],
      "source": [
        "df['tweet_refine']"
      ]
    },
    {
      "cell_type": "code",
      "execution_count": null,
      "id": "be089206-b676-430f-85b5-7c50d7d75712",
      "metadata": {
        "colab": {
          "background_save": true
        },
        "id": "be089206-b676-430f-85b5-7c50d7d75712",
        "outputId": "d5e14cf3-bed4-45f9-ca54-4bae946a29f5"
      },
      "outputs": [
        {
          "name": "stderr",
          "output_type": "stream",
          "text": [
            "[nltk_data] Downloading package wordnet to /root/nltk_data...\n",
            "[nltk_data]   Package wordnet is already up-to-date!\n"
          ]
        }
      ],
      "source": [
        "nltk.download('wordnet')\n",
        "df['tweet_refine'] = df['tweet_refine'].apply(lambda x: [lemma.lemmatize(word) for word in x])"
      ]
    },
    {
      "cell_type": "code",
      "execution_count": null,
      "id": "8fa75e7f-4dc8-480c-8751-bb61e971c2c1",
      "metadata": {
        "colab": {
          "background_save": true
        },
        "id": "8fa75e7f-4dc8-480c-8751-bb61e971c2c1"
      },
      "outputs": [],
      "source": [
        "stem = PorterStemmer()"
      ]
    },
    {
      "cell_type": "code",
      "execution_count": null,
      "id": "fefe0455-15a6-4e38-84ef-76dd62402499",
      "metadata": {
        "colab": {
          "background_save": true
        },
        "id": "fefe0455-15a6-4e38-84ef-76dd62402499"
      },
      "outputs": [],
      "source": [
        "\n",
        "df['tweet_refine'] = df['tweet_refine'].apply(lambda x: [stem.stem(word) for word in x])"
      ]
    },
    {
      "cell_type": "code",
      "execution_count": null,
      "id": "462e7e13-867d-45a1-8806-3d8015ad6f24",
      "metadata": {
        "colab": {
          "background_save": true
        },
        "id": "462e7e13-867d-45a1-8806-3d8015ad6f24",
        "outputId": "f91cd9b2-d472-42df-e33d-2eb468711622"
      },
      "outputs": [
        {
          "data": {
            "text/plain": [
              "['cyclesoci',\n",
              " 'comment',\n",
              " 'neg',\n",
              " 'stori',\n",
              " 'httptinyurlcomcgqajm',\n",
              " 'uk',\n",
              " 'societi',\n",
              " 'seemingli',\n",
              " 'doesnt',\n",
              " 'want',\n",
              " 'slow']"
            ]
          },
          "execution_count": 81,
          "metadata": {},
          "output_type": "execute_result"
        }
      ],
      "source": [
        "df['tweet_refine'][5634]"
      ]
    },
    {
      "cell_type": "code",
      "execution_count": null,
      "id": "dfbbe2b5-bc1c-45c4-b562-4ba2cbd7193a",
      "metadata": {
        "colab": {
          "background_save": true
        },
        "id": "dfbbe2b5-bc1c-45c4-b562-4ba2cbd7193a"
      },
      "outputs": [],
      "source": [
        "x = df[\"tweet_refine\"]\n",
        "y = df['target']"
      ]
    },
    {
      "cell_type": "code",
      "execution_count": null,
      "id": "0ab261b3-c7cd-4a7c-93f0-4ad4820534fa",
      "metadata": {
        "colab": {
          "background_save": true
        },
        "id": "0ab261b3-c7cd-4a7c-93f0-4ad4820534fa",
        "outputId": "cfed90f6-5d5a-4125-c7d5-431c2e1e2707"
      },
      "outputs": [
        {
          "data": {
            "text/plain": [
              "12"
            ]
          },
          "execution_count": 83,
          "metadata": {},
          "output_type": "execute_result"
        }
      ],
      "source": [
        "len(x[2452])"
      ]
    },
    {
      "cell_type": "code",
      "execution_count": null,
      "id": "f5c5c346-7801-4ccd-8ea0-f96b2870f27d",
      "metadata": {
        "colab": {
          "background_save": true
        },
        "id": "f5c5c346-7801-4ccd-8ea0-f96b2870f27d"
      },
      "outputs": [],
      "source": [
        "tokenizer = Tokenizer(num_words=100000,oov_token=\"<OOV>\")"
      ]
    },
    {
      "cell_type": "code",
      "execution_count": null,
      "id": "4bc7e8ef-cf42-4c51-9252-56a5bafb3b07",
      "metadata": {
        "colab": {
          "background_save": true
        },
        "id": "4bc7e8ef-cf42-4c51-9252-56a5bafb3b07"
      },
      "outputs": [],
      "source": [
        "tokenizer.fit_on_texts(x)"
      ]
    },
    {
      "cell_type": "code",
      "execution_count": null,
      "id": "fda8384b-3496-436c-897a-9ccf5de75806",
      "metadata": {
        "colab": {
          "background_save": true
        },
        "id": "fda8384b-3496-436c-897a-9ccf5de75806"
      },
      "outputs": [],
      "source": [
        "x_tokenized = tokenizer.texts_to_sequences(x)"
      ]
    },
    {
      "cell_type": "code",
      "execution_count": null,
      "id": "6867b96b-c801-4f23-8a8a-c11e99ec1ff6",
      "metadata": {
        "colab": {
          "background_save": true,
          "base_uri": "https://localhost:8080/"
        },
        "id": "6867b96b-c801-4f23-8a8a-c11e99ec1ff6",
        "outputId": "153a9626-6d35-478e-9598-c440ce2ae3c4"
      },
      "outputs": [
        {
          "data": {
            "text/plain": [
              "[877, 13203, 1087, 280, 1308, 891, 56, 796, 1966, 25, 31, 13204]"
            ]
          },
          "execution_count": 87,
          "metadata": {},
          "output_type": "execute_result"
        }
      ],
      "source": [
        "x_tokenized[2452]"
      ]
    },
    {
      "cell_type": "code",
      "execution_count": null,
      "id": "a87ae5f1-b4a7-4d5c-ac8e-49f388395fb6",
      "metadata": {
        "colab": {
          "background_save": true,
          "base_uri": "https://localhost:8080/"
        },
        "id": "a87ae5f1-b4a7-4d5c-ac8e-49f388395fb6",
        "outputId": "7c5899a4-db49-4cca-aa53-1536638d1e15"
      },
      "outputs": [
        {
          "data": {
            "text/plain": [
              "['ahhh',\n",
              " 'drafthous',\n",
              " 'surpris',\n",
              " 'world',\n",
              " 'premier',\n",
              " 'screen',\n",
              " 'new',\n",
              " 'star',\n",
              " 'trek',\n",
              " 'last',\n",
              " 'night',\n",
              " 'torchi']"
            ]
          },
          "execution_count": 88,
          "metadata": {},
          "output_type": "execute_result"
        }
      ],
      "source": [
        "x[2452]"
      ]
    },
    {
      "cell_type": "code",
      "execution_count": null,
      "id": "afba064f-da5b-4593-8134-aeef1eb52e01",
      "metadata": {
        "colab": {
          "background_save": true
        },
        "id": "afba064f-da5b-4593-8134-aeef1eb52e01"
      },
      "outputs": [],
      "source": [
        "x_padded = pad_sequences(x_tokenized, maxlen=50)"
      ]
    },
    {
      "cell_type": "code",
      "execution_count": null,
      "id": "8769a494-ca62-4226-b7ce-38ebfae39bb7",
      "metadata": {
        "colab": {
          "background_save": true,
          "base_uri": "https://localhost:8080/"
        },
        "id": "8769a494-ca62-4226-b7ce-38ebfae39bb7",
        "outputId": "81ed34e2-424b-48e5-87a8-27e31bd80b56"
      },
      "outputs": [
        {
          "data": {
            "text/plain": [
              "50"
            ]
          },
          "execution_count": 90,
          "metadata": {},
          "output_type": "execute_result"
        }
      ],
      "source": [
        "len(x_padded[264])"
      ]
    },
    {
      "cell_type": "code",
      "execution_count": null,
      "id": "7c9446e0-342f-4d1c-b9e1-301d1a3fefbe",
      "metadata": {
        "colab": {
          "background_save": true,
          "base_uri": "https://localhost:8080/"
        },
        "id": "7c9446e0-342f-4d1c-b9e1-301d1a3fefbe",
        "outputId": "12ee47a8-7a5f-4cb0-ef77-c4b9cc01d151"
      },
      "outputs": [
        {
          "data": {
            "text/plain": [
              "array([[    0,     0,     0, ...,  5019,  1446,     6],\n",
              "       [    0,     0,     0, ...,    10,   202,   793],\n",
              "       [    0,     0,     0, ...,   344,     3,  3020],\n",
              "       ...,\n",
              "       [    0,     0,     0, ...,    51,   910,  1047],\n",
              "       [    0,     0,     0, ...,    11, 40140,  1985],\n",
              "       [    0,     0,     0, ...,     0,     0,  5248]], dtype=int32)"
            ]
          },
          "execution_count": 91,
          "metadata": {},
          "output_type": "execute_result"
        }
      ],
      "source": [
        "(x_padded)"
      ]
    },
    {
      "cell_type": "code",
      "execution_count": null,
      "id": "f6a62f83-3531-4729-b69c-60a3f461d41e",
      "metadata": {
        "colab": {
          "background_save": true,
          "base_uri": "https://localhost:8080/"
        },
        "id": "f6a62f83-3531-4729-b69c-60a3f461d41e",
        "outputId": "cc33df60-cfcd-486d-bcdb-c8b74d9f5e8b"
      },
      "outputs": [
        {
          "data": {
            "text/plain": [
              "array([0])"
            ]
          },
          "execution_count": 92,
          "metadata": {},
          "output_type": "execute_result"
        }
      ],
      "source": [
        "y.unique()"
      ]
    },
    {
      "cell_type": "code",
      "execution_count": null,
      "id": "f028152d-d924-4930-8b39-233c7b2de5ff",
      "metadata": {
        "colab": {
          "background_save": true
        },
        "id": "f028152d-d924-4930-8b39-233c7b2de5ff"
      },
      "outputs": [],
      "source": [
        "# Build LSTM model"
      ]
    },
    {
      "cell_type": "code",
      "execution_count": null,
      "id": "a3a4c46a-4187-49df-9945-c1c612bb715a",
      "metadata": {
        "colab": {
          "background_save": true
        },
        "id": "a3a4c46a-4187-49df-9945-c1c612bb715a"
      },
      "outputs": [],
      "source": [
        "def build_lstm_model(vocab_size, embedding_dim=100, max_len=50):\n",
        "    model = Sequential([\n",
        "        Embedding(vocab_size, embedding_dim, input_length=max_len),\n",
        "        LSTM(128, return_sequences=True),\n",
        "        LSTM(64),\n",
        "        Dense(64, activation= 'relu'),\n",
        "        Dropout(0.5),\n",
        "        Dense(1, activation= 'sigmoid')\n",
        "    ])\n",
        "    model.compile(optimizer='adam', loss='binary_crossentropy', metrics=['accuracy'])\n",
        "    return model"
      ]
    },
    {
      "cell_type": "code",
      "execution_count": null,
      "id": "910e645b-e461-49f9-a65e-1bd59dcfc075",
      "metadata": {
        "colab": {
          "background_save": true
        },
        "id": "910e645b-e461-49f9-a65e-1bd59dcfc075"
      },
      "outputs": [],
      "source": [
        "def train_model(model,x_train,y_train,x_val,y_val, epochs=5, batch_size=64):\n",
        "    history = model.fit(\n",
        "        x_train,y_train,\n",
        "        epochs=epochs,\n",
        "        batch_size=batch_size,\n",
        "        validation_data=(x_val, y_val),\n",
        "        verbose=1\n",
        "    )\n",
        "    return history"
      ]
    },
    {
      "cell_type": "code",
      "execution_count": null,
      "id": "7e1e70c8-8a26-484e-8ed3-fde52b23e991",
      "metadata": {
        "colab": {
          "background_save": true
        },
        "id": "7e1e70c8-8a26-484e-8ed3-fde52b23e991"
      },
      "outputs": [],
      "source": [
        "x_train,x_test,y_train,y_test=train_test_split(x_padded,y , test_size=0.2, random_state=42)\n",
        "x_train,x_val,y_train,y_val=train_test_split(x_train,y_train,test_size=0.2, random_state=42)"
      ]
    },
    {
      "cell_type": "code",
      "execution_count": null,
      "id": "eb83aa4a-4485-4cec-ad0c-db75a47671dd",
      "metadata": {
        "colab": {
          "background_save": true
        },
        "id": "eb83aa4a-4485-4cec-ad0c-db75a47671dd"
      },
      "outputs": [],
      "source": [
        "vocab_size = len(tokenizer.word_index) + 1"
      ]
    },
    {
      "cell_type": "code",
      "execution_count": null,
      "id": "ae3e250f-9c0b-4c17-988c-95ed653b260d",
      "metadata": {
        "colab": {
          "background_save": true,
          "base_uri": "https://localhost:8080/"
        },
        "id": "ae3e250f-9c0b-4c17-988c-95ed653b260d",
        "outputId": "13a81fbb-618e-4fcf-ebad-bef55cddd0e2"
      },
      "outputs": [
        {
          "data": {
            "text/plain": [
              "40141"
            ]
          },
          "execution_count": 98,
          "metadata": {},
          "output_type": "execute_result"
        }
      ],
      "source": [
        "vocab_size"
      ]
    },
    {
      "cell_type": "code",
      "execution_count": null,
      "id": "cc1f50e5-350d-4dd4-bc85-b2d8a41e3a3a",
      "metadata": {
        "colab": {
          "background_save": true,
          "base_uri": "https://localhost:8080/"
        },
        "id": "cc1f50e5-350d-4dd4-bc85-b2d8a41e3a3a",
        "scrolled": true,
        "outputId": "2a99ad35-b205-4652-d3f6-ef63b65ae4fc"
      },
      "outputs": [
        {
          "name": "stderr",
          "output_type": "stream",
          "text": [
            "/usr/local/lib/python3.10/dist-packages/keras/src/layers/core/embedding.py:90: UserWarning: Argument `input_length` is deprecated. Just remove it.\n",
            "  warnings.warn(\n"
          ]
        }
      ],
      "source": [
        "model = build_lstm_model(vocab_size)"
      ]
    },
    {
      "cell_type": "code",
      "execution_count": null,
      "id": "256de680-40c8-497e-a749-bdcf88c1ef10",
      "metadata": {
        "colab": {
          "background_save": true,
          "base_uri": "https://localhost:8080/",
          "height": 316
        },
        "id": "256de680-40c8-497e-a749-bdcf88c1ef10",
        "outputId": "36a8d8d0-d5e0-41e9-d6db-fbfec4de8d24"
      },
      "outputs": [
        {
          "name": "stdout",
          "output_type": "stream",
          "text": [
            "Epoch 1/5\n",
            "\u001b[1m424/424\u001b[0m \u001b[32m━━━━━━━━━━━━━━━━━━━━\u001b[0m\u001b[37m\u001b[0m \u001b[1m90s\u001b[0m 204ms/step - accuracy: 0.9894 - loss: 0.0509 - val_accuracy: 1.0000 - val_loss: 6.8383e-07\n",
            "Epoch 2/5\n",
            "\u001b[1m424/424\u001b[0m \u001b[32m━━━━━━━━━━━━━━━━━━━━\u001b[0m\u001b[37m\u001b[0m \u001b[1m138s\u001b[0m 196ms/step - accuracy: 1.0000 - loss: 1.1197e-04 - val_accuracy: 1.0000 - val_loss: 6.5951e-08\n",
            "Epoch 3/5\n",
            "\u001b[1m424/424\u001b[0m \u001b[32m━━━━━━━━━━━━━━━━━━━━\u001b[0m\u001b[37m\u001b[0m \u001b[1m143s\u001b[0m 199ms/step - accuracy: 1.0000 - loss: 3.8164e-05 - val_accuracy: 1.0000 - val_loss: 1.2519e-08\n",
            "Epoch 4/5\n",
            "\u001b[1m424/424\u001b[0m \u001b[32m━━━━━━━━━━━━━━━━━━━━\u001b[0m\u001b[37m\u001b[0m \u001b[1m141s\u001b[0m 197ms/step - accuracy: 1.0000 - loss: 4.4837e-05 - val_accuracy: 1.0000 - val_loss: 3.0260e-09\n",
            "Epoch 5/5\n",
            "\u001b[1m424/424\u001b[0m \u001b[32m━━━━━━━━━━━━━━━━━━━━\u001b[0m\u001b[37m\u001b[0m \u001b[1m143s\u001b[0m 198ms/step - accuracy: 1.0000 - loss: 3.1378e-05 - val_accuracy: 1.0000 - val_loss: 8.3835e-10\n"
          ]
        }
      ],
      "source": [
        "history = train_model(model,x_train,y_train, x_val, y_val )"
      ]
    },
    {
      "cell_type": "code",
      "execution_count": null,
      "id": "eabf883b-183f-4d1c-b2bf-cc5cf22e5659",
      "metadata": {
        "colab": {
          "background_save": true,
          "base_uri": "https://localhost:8080/"
        },
        "id": "eabf883b-183f-4d1c-b2bf-cc5cf22e5659",
        "outputId": "acbd1920-a4b2-427d-88be-8668da5f01c6"
      },
      "outputs": [
        {
          "name": "stderr",
          "output_type": "stream",
          "text": [
            "WARNING:absl:You are saving your model as an HDF5 file via `model.save()` or `keras.saving.save_model(model)`. This file format is considered legacy. We recommend using instead the native Keras format, e.g. `model.save('my_model.keras')` or `keras.saving.save_model(model, 'my_model.keras')`. \n"
          ]
        }
      ],
      "source": [
        "# SAVE THE MODEL AND TOKENIZER\n",
        "model.save('sentiment_model.h5')\n",
        "with open('tokenizer.pickle','wb') as handle:\n",
        "    pickle.dump(tokenizer,handle, protocol=pickle.HIGHEST_PROTOCOL) # Assuming tokenizer is defined"
      ]
    },
    {
      "cell_type": "code",
      "execution_count": null,
      "id": "oGTPITSk_cxp",
      "metadata": {
        "id": "oGTPITSk_cxp"
      },
      "outputs": [],
      "source": []
    }
  ],
  "metadata": {
    "colab": {
      "provenance": []
    },
    "kernelspec": {
      "display_name": "Python 3 (ipykernel)",
      "language": "python",
      "name": "python3"
    },
    "language_info": {
      "codemirror_mode": {
        "name": "ipython",
        "version": 3
      },
      "file_extension": ".py",
      "mimetype": "text/x-python",
      "name": "python",
      "nbconvert_exporter": "python",
      "pygments_lexer": "ipython3",
      "version": "3.12.6"
    }
  },
  "nbformat": 4,
  "nbformat_minor": 5
}